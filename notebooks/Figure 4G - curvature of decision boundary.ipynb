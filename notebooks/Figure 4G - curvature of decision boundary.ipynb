{
 "cells": [
  {
   "cell_type": "markdown",
   "metadata": {},
   "source": [
    "# Figure 4G\n",
    "Backpropgating a decision boundary and computing its curvature."
   ]
  },
  {
   "cell_type": "code",
   "execution_count": 2,
   "metadata": {
    "collapsed": false
   },
   "outputs": [
    {
     "name": "stdout",
     "output_type": "stream",
     "text": [
      "Populating the interactive namespace from numpy and matplotlib\n",
      "The autoreload extension is already loaded. To reload it, use:\n",
      "  %reload_ext autoreload\n"
     ]
    }
   ],
   "source": [
    "%pylab inline\n",
    "%load_ext autoreload\n",
    "%autoreload 2\n",
    "\n",
    "from __future__ import print_function\n",
    "import os, sys\n",
    "from tqdm import tqdm\n",
    "\n",
    "import seaborn as sns\n",
    "sns.set_style(\"whitegrid\")\n",
    "sns.set_context(\"paper\")\n",
    "plt.rcParams['pdf.fonttype'] = 42\n",
    "plt.rcParams['text.usetex'] = True\n",
    "plt.rcParams['text.latex.unicode'] = True\n",
    "plt.rcParams['image.cmap'] = 'viridis'\n",
    "\n",
    "# Add cornet and Theano to path\n",
    "sys.path.insert(0, '../')\n",
    "sys.path.insert(0, '/home/poole/Theano_clean')\n",
    "\n",
    "# Output figure directory\n",
    "figure_dir = \"../writeup/figures\"\n",
    "results_dir = \"../results\"\n",
    "if not os.path.exists(figure_dir):\n",
    "    raise ValueError(\"Figure directory does not exist. Create it or change figure_dir above.\")\n",
    "if not os.path.exists(results_dir):\n",
    "    raise ValueError(\"Results directory does not exist. Create it or change results_dir above.\")"
   ]
  },
  {
   "cell_type": "markdown",
   "metadata": {},
   "source": [
    "## Parameters"
   ]
  },
  {
   "cell_type": "code",
   "execution_count": 4,
   "metadata": {
    "collapsed": true
   },
   "outputs": [],
   "source": [
    "n_hidden_layers = 10\n",
    "n_hidden_units = 200\n",
    "din = n_hidden_units\n",
    "nonlinearity = 'tanh'\n",
    "nonlinearity_str = nonlinearity"
   ]
  },
  {
   "cell_type": "markdown",
   "metadata": {},
   "source": [
    "TODO: document decision boundary backprop code"
   ]
  },
  {
   "cell_type": "code",
   "execution_count": 10,
   "metadata": {
    "collapsed": false
   },
   "outputs": [],
   "source": [
    "from cornet.net import RandNet\n",
    "net = RandNet(din, n_hidden_units, n_hidden_layers, nonlinearity=nonlinearity)\n",
    "trained = False"
   ]
  },
  {
   "cell_type": "code",
   "execution_count": 13,
   "metadata": {
    "collapsed": false
   },
   "outputs": [],
   "source": [
    "import keras.backend as K\n",
    "x_opt = K.variable(np.random.randn(din), name='x_opt')\n",
    "output = net.model(x_opt.reshape((1, -1)))\n",
    "w = np.random.randn(n_hidden_units)\n",
    "w = w / np.linalg.norm(w)\n",
    "w = K.variable(w)"
   ]
  },
  {
   "cell_type": "code",
   "execution_count": 14,
   "metadata": {
    "collapsed": true
   },
   "outputs": [],
   "source": [
    "if trained:\n",
    "    w2 = np.zeros(net.output_dim)\n",
    "    w2[pos_class] = 1\n",
    "    w2[neg_class] = -1\n",
    "else:\n",
    "    w2 = np.random.randn(net.output_dim)\n",
    "w2 /= np.linalg.norm(w2)\n",
    "w.set_value(w2.astype(np.float32))"
   ]
  },
  {
   "cell_type": "code",
   "execution_count": 17,
   "metadata": {
    "collapsed": false
   },
   "outputs": [
    {
     "name": "stdout",
     "output_type": "stream",
     "text": [
      "4.0 0.3\n"
     ]
    }
   ],
   "source": [
    "from cornet.constants import weight_sigmas, bias_sigmas, widxs, bidxs\n",
    "weight_sigma = weight_sigmas[widxs[-1]]\n",
    "bias_sigma = bias_sigmas[bidxs[-1]]\n",
    "print(weight_sigma, bias_sigma)"
   ]
  },
  {
   "cell_type": "code",
   "execution_count": 18,
   "metadata": {
    "collapsed": true
   },
   "outputs": [],
   "source": [
    "if not trained:\n",
    "    net.randomize(bias_sigma=bias_sigma, weight_sigma=weight_sigma)"
   ]
  },
  {
   "cell_type": "code",
   "execution_count": 19,
   "metadata": {
    "collapsed": false
   },
   "outputs": [],
   "source": [
    "from keras.models import Model\n",
    "model_with_acts = Model(input=[net.model.input], output=[net.model.output, net.model.input] + net.hs)"
   ]
  },
  {
   "cell_type": "code",
   "execution_count": 20,
   "metadata": {
    "collapsed": false
   },
   "outputs": [],
   "source": [
    "outputs = model_with_acts(x_opt.reshape((1, -1)))\n",
    "output, hs = outputs[0], outputs[1:]"
   ]
  },
  {
   "cell_type": "code",
   "execution_count": 21,
   "metadata": {
    "collapsed": false
   },
   "outputs": [],
   "source": [
    "G = K.sum(K.dot(output.reshape((-1,)), w))\n",
    "loss = G**2"
   ]
  },
  {
   "cell_type": "code",
   "execution_count": 24,
   "metadata": {
    "collapsed": false
   },
   "outputs": [],
   "source": [
    "import theano\n",
    "import theano.tensor as T\n",
    "gs = [theano.gradient.grad(G, h) for h in  hs]\n",
    "updates = []\n",
    "Hs = []\n",
    "for h, g in zip(hs, gs):\n",
    "    H, ups = theano.scan(lambda i, gy, x: T.grad(gy[0,i], x), sequences=T.arange(g.shape[1]), non_sequences=[g, h] ) \n",
    "    Hs.append(H)\n",
    "    updates.extend(ups)"
   ]
  },
  {
   "cell_type": "code",
   "execution_count": 25,
   "metadata": {
    "collapsed": false
   },
   "outputs": [
    {
     "name": "stdout",
     "output_type": "stream",
     "text": [
      "CPU times: user 17.3 s, sys: 380 ms, total: 17.7 s\n",
      "Wall time: 17.7 s\n"
     ]
    }
   ],
   "source": [
    "%%time\n",
    "f_grad_hess = theano.function(inputs=[], outputs=gs + Hs, updates=updates)"
   ]
  },
  {
   "cell_type": "code",
   "execution_count": 27,
   "metadata": {
    "collapsed": false
   },
   "outputs": [],
   "source": [
    "from keras.optimizers import Adam\n",
    "opt = Adam(lr=1e-3, beta_1=0.8)\n",
    "updates = opt.get_updates([x_opt], [], loss)\n",
    "start_state = opt.get_state()\n",
    "f_train = theano.function(inputs=[], outputs=[loss], updates=updates)"
   ]
  },
  {
   "cell_type": "code",
   "execution_count": 28,
   "metadata": {
    "collapsed": true
   },
   "outputs": [],
   "source": [
    "def find_x(max_iter=250, sigma=1.0, qmax=30, x0=None):\n",
    "    opt.set_state(start_state)\n",
    "    if x0 is None:\n",
    "        x0 = np.random.uniform(0, qmax) * sigma * 1.0/np.sqrt(din) * np.random.randn(din).astype(np.float32)\n",
    "    x_opt.set_value(x0)\n",
    "    for i in xrange(max_iter):\n",
    "        loss = f_train()\n",
    "    #print loss\n",
    "    return loss[0], x_opt.get_value()"
   ]
  },
  {
   "cell_type": "code",
   "execution_count": 30,
   "metadata": {
    "collapsed": false
   },
   "outputs": [
    {
     "name": "stdout",
     "output_type": "stream",
     "text": [
      "0 3.59726137766e-13\n",
      "1 1.56519797123e-11\n",
      "2 4.24036361579e-11\n",
      "3 3.68718944266e-11\n",
      "4 2.40163444687e-12\n",
      "5 2.51799830986e-11\n",
      "6 2.40163444687e-12\n",
      "7 2.88569168561e-12\n",
      "8 4.29878355135e-13\n",
      "9 2.3492717105e-08\n",
      "9 8.05805422388e-12\n",
      "CPU times: user 2.15 s, sys: 336 ms, total: 2.48 s\n",
      "Wall time: 2.48 s\n"
     ]
    }
   ],
   "source": [
    "%%time\n",
    "n_points = 10\n",
    "xs = []\n",
    "\n",
    "tol = 1e-9\n",
    "\n",
    "while len(xs) < n_points:\n",
    "    if trained:\n",
    "        cidx = np.random.choice([pos_class, neg_class])\n",
    "        didx = np.random.choice(np.flatnonzero(y_train==cidx))\n",
    "        x0 = X_train[didx].ravel().astype(np.float32)\n",
    "    else:\n",
    "        x0 = None\n",
    "    loss, x = find_x(x0=x0)\n",
    "    print(len(xs), loss)\n",
    "    if loss < tol:\n",
    "        xs.append(x)\n",
    "    \n",
    "#xs = [find_x() for i in xrange(n_points)]"
   ]
  },
  {
   "cell_type": "code",
   "execution_count": 31,
   "metadata": {
    "collapsed": false
   },
   "outputs": [],
   "source": [
    "#yscore = net.get_act(np.array(xs))\n",
    "#yhat = np.argmax(yscore, axis=-1)\n",
    "#print np.mean(yhat != y_test)\n",
    "#plot(np.dot(yscore, w2)**2)"
   ]
  },
  {
   "cell_type": "code",
   "execution_count": 32,
   "metadata": {
    "collapsed": false
   },
   "outputs": [],
   "source": [
    "#for i in xrange(10):\n",
    "#    imshow(xs[i].reshape(28, 28), interpolation='nearest'); grid('off'); show()"
   ]
  },
  {
   "cell_type": "code",
   "execution_count": 33,
   "metadata": {
    "collapsed": false
   },
   "outputs": [],
   "source": [
    "def compute_principal_curvatures(x):\n",
    "    x_opt.set_value(x)\n",
    "    gs_and_Hs = f_grad_hess()\n",
    "    nlayer = len(gs_and_Hs)//2\n",
    "    gs = gs_and_Hs[:nlayer]\n",
    "    Hs = gs_and_Hs[nlayer:]\n",
    "    out = []\n",
    "    for lidx in xrange(nlayer):\n",
    "        g, H = gs[lidx].squeeze(), Hs[lidx].squeeze()\n",
    "        gnorm = np.linalg.norm(g)\n",
    "        ghat = g / gnorm\n",
    "        Hl = (H/gnorm - np.outer(ghat, np.dot(ghat, H/gnorm)))\n",
    "        Hnormal = Hl - np.outer(np.dot(Hl, ghat), ghat)\n",
    "        w, v = np.linalg.eig(Hnormal)\n",
    "        out.append(np.real(np.sort(w)))\n",
    "    return out"
   ]
  },
  {
   "cell_type": "code",
   "execution_count": 34,
   "metadata": {
    "collapsed": true
   },
   "outputs": [],
   "source": [
    "from tqdm import tqdm"
   ]
  },
  {
   "cell_type": "code",
   "execution_count": 55,
   "metadata": {
    "collapsed": false
   },
   "outputs": [
    {
     "name": "stderr",
     "output_type": "stream",
     "text": [
      "100%|██████████| 10/10 [00:06<00:00,  1.58it/s]\n"
     ]
    }
   ],
   "source": [
    "pcs = []\n",
    "for i, x in enumerate(tqdm(xs)):\n",
    "    if trained:\n",
    "        pcs.append(compute_principal_curvatures(x)[:])\n",
    "    else:\n",
    "        pcs.append(compute_principal_curvatures(x)[:])\n",
    "        \n",
    "tmp = zip(*pcs)\n",
    "curvatures = [np.array(f) for f in tmp]\n",
    "avg_curvatures = [c.mean(0) for c in curvatures]\n",
    "std_curvatures = [c.std(0) for c in curvatures]"
   ]
  },
  {
   "cell_type": "markdown",
   "metadata": {},
   "source": [
    "# Figure 4G:\n",
    "(G) average principal curvatures for the largest and smallest 4 principal curvatures (κ ± 1, ..., κ ± 4) across locations θ within one network. The principal curvatures all grow exponentially as we backpropagate to the input layer. Panels F,G are discussed in Sec. 5."
   ]
  },
  {
   "cell_type": "code",
   "execution_count": 39,
   "metadata": {
    "collapsed": true
   },
   "outputs": [],
   "source": [
    "nkappa = 4"
   ]
  },
  {
   "cell_type": "code",
   "execution_count": 65,
   "metadata": {
    "collapsed": false
   },
   "outputs": [
    {
     "data": {
      "image/png": "[encoded data removed]",
      "text/plain": [
       "<matplotlib.figure.Figure at 0x7f42703bea10>"
      ]
     },
     "metadata": {},
     "output_type": "display_data"
    }
   ],
   "source": [
    "figure(figsize=(3, 2))\n",
    "gs = GridSpec(1, 1)\n",
    "\n",
    "pal = sns.cubehelix_palette(nkappa+ 3, reverse=True, light=0.9)[:nkappa]\n",
    "sns.set_palette(pal) \n",
    "\n",
    "subplot(gs[0, 0])\n",
    "pal = sns.cubehelix_palette(nkappa + 3, reverse=True, light=0.9, dark=0.3)[:nkappa]\n",
    "xx = np.arange(len(curvatures))\n",
    "for k in xrange(nkappa):\n",
    "    kpos = [ac[-(k+1)] for ac in avg_curvatures]\n",
    "    kneg = [ac[k] for ac in avg_curvatures]\n",
    "    plot(xx, kpos, 'o-', color=pal[k], markersize=2)\n",
    "    plot(xx, kneg, 'o-', color=pal[k], markersize=2, label='_nolegend_')\n",
    "    \n",
    "gca().set_yscale('symlog', linthreshy=linthreshy)\n",
    "ylim(-ymax, ymax)\n",
    "legend([r'$\\kappa_{\\pm%d}$'%d for d in np.arange(1, nkappa+1)], ncol=2, bbox_to_anchor=(0.35, -0.2))\n",
    "gcf().tight_layout()\n",
    "xlabel('layer')\n",
    "ylabel(r'principal curvature')\n",
    "\n",
    "savefig(os.path.join(figure_dir, \"fig4f_boundary.pdf\" ), bbox_inches='tight')"
   ]
  },
  {
   "cell_type": "markdown",
   "metadata": {},
   "source": [
    "## Supp spectrum plot"
   ]
  },
  {
   "cell_type": "code",
   "execution_count": null,
   "metadata": {
    "collapsed": true
   },
   "outputs": [],
   "source": [
    "from mpl_toolkits.axes_grid1.inset_locator import zoomed_inset_axes\n",
    "from mpl_toolkits.axes_grid1.inset_locator import mark_inset\n",
    "\n",
    "def plot_spectrum(layer=2, nline=25, xmax=6, ymax=1000, pal=pal, borderpad=0.1, linthreshy=1e-6):\n",
    "    idx = [layer]\n",
    "    csort = [np.sort(c, axis=-1) for c in curvatures]\n",
    "    handles = []\n",
    "    nunit = csort[idx[0]][:nline].shape[-1]\n",
    "    ax = gca()\n",
    "    for j, lidx in enumerate(idx):\n",
    "        h = plot(csort[lidx][:nline].T, c=pal[lidx])\n",
    "        handles.append(h[0])\n",
    "    ylim(-ymax, ymax)\n",
    "    from mpl_toolkits.axes_grid1.inset_locator import inset_axes\n",
    "    axins = inset_axes(ax,\n",
    "                        width=\"40%\", \n",
    "                        height=\"40%\",\n",
    "                        loc=2, borderpad=borderpad)\n",
    "\n",
    "    for j, lidx in enumerate(idx):\n",
    "        axins.plot(csort[lidx][:nline].T, '-', c=pal[lidx], zorder=0)\n",
    "        for ll in xrange(nline):\n",
    "            axins.scatter(np.arange(nkappa), csort[lidx][ll, :nkappa], marker='o',s=8, c=pal_kappa)\n",
    "\n",
    "    axins.set_yscale('symlog', linthreshy=linthreshy)\n",
    "    axins.set_xlim(-.5, xmax)\n",
    "    axins.set_ylim(-ymax, 0)\n",
    "    axins.set_xticks([]); axins.set_yticks([])\n",
    "    mark_inset(ax, axins, loc1=2, loc2=4, fc=\"none\", ec=\"0.5\")\n",
    "\n",
    "    axins = inset_axes(ax,\n",
    "                        width=\"40%\",  # width = 10% of parent_bbox width\n",
    "                        height=\"40%\",  # height : 50%\n",
    "                        loc=4, borderpad=borderpad)\n",
    "\n",
    "    for j, lidx in enumerate(idx):\n",
    "        axins.plot(csort[lidx][:nline].T, '-', c=pal[lidx], zorder=0)\n",
    "        for ll in xrange(nline):\n",
    "            axins.scatter(nunit-1-np.arange(nkappa), csort[lidx][ll, -nkappa:][::-1], marker='o',s=8, c=pal_kappa)\n",
    "    axins.set_yscale('symlog', linthreshy=linthreshy)\n",
    "    axins.set_ylim(0, ymax)\n",
    "    axins.set_xlim(nunit-xmax-1, nunit-.5)\n",
    "    axins.set_xticks([]); axins.set_yticks([])\n",
    "\n",
    "\n",
    "    mark_inset(ax, axins, loc1=2, loc2=4, fc=\"none\", ec=\"0.5\")\n",
    "    \n",
    "    ax.set_xlabel('sorted eigenvalue index')\n",
    "    ax.set_ylabel('eigenvalue')\n",
    "    ax.set_yscale('symlog', linthreshy=linthreshy)\n"
   ]
  },
  {
   "cell_type": "code",
   "execution_count": 63,
   "metadata": {
    "collapsed": false
   },
   "outputs": [
    {
     "data": {
      "image/png": "[encoded data removed]",
      "text/plain": [
       "<matplotlib.figure.Figure at 0x7f4272408610>"
      ]
     },
     "metadata": {},
     "output_type": "display_data"
    }
   ],
   "source": [
    "linthreshy = 1e-1\n",
    "ymax = np.max([np.abs(ac).max() for ac in curvatures])/2.\n",
    "pal_kappa = pal\n",
    "plot_spectrum(layer=0, nline=5, ymax=ymax, pal=[[0,0,0,1]]*100, linthreshy=linthreshy)"
   ]
  },
  {
   "cell_type": "code",
   "execution_count": null,
   "metadata": {
    "collapsed": true
   },
   "outputs": [],
   "source": []
  }
 ],
 "metadata": {
  "kernelspec": {
   "display_name": "Python 2",
   "language": "python",
   "name": "python2"
  },
  "language_info": {
   "codemirror_mode": {
    "name": "ipython",
    "version": 2
   },
   "file_extension": ".py",
   "mimetype": "text/x-python",
   "name": "python",
   "nbconvert_exporter": "python",
   "pygments_lexer": "ipython2",
   "version": "2.7.6"
  }
 },
 "nbformat": 4,
 "nbformat_minor": 0
}
